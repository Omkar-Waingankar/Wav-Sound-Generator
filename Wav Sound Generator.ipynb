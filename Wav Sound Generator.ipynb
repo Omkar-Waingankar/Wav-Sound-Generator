{
 "cells": [
  {
   "cell_type": "code",
   "execution_count": 139,
   "metadata": {},
   "outputs": [],
   "source": [
    "import requests\n",
    "from bs4 import BeautifulSoup\n",
    "import numpy as np\n",
    "from scipy.io.wavfile import write"
   ]
  },
  {
   "cell_type": "code",
   "execution_count": 155,
   "metadata": {},
   "outputs": [],
   "source": [
    "wav = []\n",
    "for i in np.arange(14):\n",
    "    if len(wav) > 120000:\n",
    "        request = requests.get(\"https://www.random.org/integers/?num=2300&min=0&max=10000&col=1&base=10&format=plain&rnd=new\")\n",
    "    else:\n",
    "        request = requests.get(\"https://www.random.org/integers/?num=10000&min=0&max=10000&col=1&base=10&format=plain&rnd=new\")\n",
    "    soup = BeautifulSoup(request.content, 'html.parser')\n",
    "    wav_string = str(soup).split('\\n')[:-1]\n",
    "    wav += [int(i) - 5000 for i in wav_string]"
   ]
  },
  {
   "cell_type": "code",
   "execution_count": 152,
   "metadata": {},
   "outputs": [],
   "source": [
    "wav = np.array(wav)\n",
    "scaled_wav = np.int16(wav/np.max(np.abs(wav)) * 32767)\n",
    "write('hooray.wav', 44100, scaled_wav)"
   ]
  }
 ],
 "metadata": {
  "kernelspec": {
   "display_name": "Python 3",
   "language": "python",
   "name": "python3"
  },
  "language_info": {
   "codemirror_mode": {
    "name": "ipython",
    "version": 3
   },
   "file_extension": ".py",
   "mimetype": "text/x-python",
   "name": "python",
   "nbconvert_exporter": "python",
   "pygments_lexer": "ipython3",
   "version": "3.6.3"
  }
 },
 "nbformat": 4,
 "nbformat_minor": 2
}
